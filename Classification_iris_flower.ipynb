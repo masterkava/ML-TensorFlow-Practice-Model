{
  "nbformat": 4,
  "nbformat_minor": 0,
  "metadata": {
    "colab": {
      "name": "Module3_Classification.ipynb",
      "provenance": []
    },
    "kernelspec": {
      "name": "python3",
      "display_name": "Python 3"
    }
  },
  "cells": [
    {
      "cell_type": "code",
      "metadata": {
        "id": "ctl39tRpcD0V",
        "colab_type": "code",
        "colab": {}
      },
      "source": [
        "import tensorflow as tf\n",
        "\n",
        "import pandas as pd"
      ],
      "execution_count": 1,
      "outputs": []
    },
    {
      "cell_type": "code",
      "metadata": {
        "id": "NQpt1luTjNTd",
        "colab_type": "code",
        "colab": {}
      },
      "source": [
        "CSV_COLUMN_NAMES = ['SepalLength', 'SepalWidth', 'PetalLength', 'PetalWidth', 'Species']\n",
        "SPECIES = ['Setosa', 'Versicolor', 'Virginica']"
      ],
      "execution_count": 2,
      "outputs": []
    },
    {
      "cell_type": "code",
      "metadata": {
        "id": "O0JTHdLpjPiX",
        "colab_type": "code",
        "colab": {
          "base_uri": "https://localhost:8080/",
          "height": 106
        },
        "outputId": "757d487f-9afa-4417-d158-a07343cc1342"
      },
      "source": [
        "# Dataset\n",
        "\n",
        "train_path = tf.keras.utils.get_file(\n",
        "    \"iris_training.csv\", \"https://storage.googleapis.com/download.tensorflow.org/data/iris_training.csv\")\n",
        "test_path = tf.keras.utils.get_file(\n",
        "    \"iris_test.csv\", \"https://storage.googleapis.com/download.tensorflow.org/data/iris_test.csv\")\n",
        "\n",
        "train = pd.read_csv(train_path, names=CSV_COLUMN_NAMES, header=0)\n",
        "test = pd.read_csv(test_path, names=CSV_COLUMN_NAMES, header=0)"
      ],
      "execution_count": 3,
      "outputs": [
        {
          "output_type": "stream",
          "text": [
            "Downloading data from https://storage.googleapis.com/download.tensorflow.org/data/iris_training.csv\n",
            "8192/2194 [================================================================================================================] - 0s 0us/step\n",
            "Downloading data from https://storage.googleapis.com/download.tensorflow.org/data/iris_test.csv\n",
            "8192/573 [============================================================================================================================================================================================================================================================================================================================================================================================================================================] - 0s 0us/step\n"
          ],
          "name": "stdout"
        }
      ]
    },
    {
      "cell_type": "code",
      "metadata": {
        "id": "sP5_vuiMjUNP",
        "colab_type": "code",
        "colab": {}
      },
      "source": [
        "train_y = train.pop('Species')\n",
        "test_y = test.pop('Species')"
      ],
      "execution_count": 4,
      "outputs": []
    },
    {
      "cell_type": "code",
      "metadata": {
        "id": "ciXBDSZcjWZb",
        "colab_type": "code",
        "colab": {}
      },
      "source": [
        "# Input Function\n",
        "\n",
        "def input_fn(features, labels, training=True, batch_size=256):\n",
        "    # Convert the inputs to a Dataset.\n",
        "    dataset = tf.data.Dataset.from_tensor_slices((dict(features), labels))\n",
        "\n",
        "    # Shuffle and repeat if you are in training mode.\n",
        "    if training:\n",
        "        dataset = dataset.shuffle(1000).repeat()\n",
        "    \n",
        "    return dataset.batch(batch_size)"
      ],
      "execution_count": 5,
      "outputs": []
    },
    {
      "cell_type": "code",
      "metadata": {
        "id": "Tt3x9S3qjZg7",
        "colab_type": "code",
        "colab": {
          "base_uri": "https://localhost:8080/",
          "height": 54
        },
        "outputId": "cfc21e56-a96e-44ea-fd9f-64fa4dc463e6"
      },
      "source": [
        "# Feature COlumns\n",
        "\n",
        "my_feature_columns = []\n",
        "for key in train.keys():\n",
        "    my_feature_columns.append(tf.feature_column.numeric_column(key=key))\n",
        "print(my_feature_columns)"
      ],
      "execution_count": 6,
      "outputs": [
        {
          "output_type": "stream",
          "text": [
            "[NumericColumn(key='SepalLength', shape=(1,), default_value=None, dtype=tf.float32, normalizer_fn=None), NumericColumn(key='SepalWidth', shape=(1,), default_value=None, dtype=tf.float32, normalizer_fn=None), NumericColumn(key='PetalLength', shape=(1,), default_value=None, dtype=tf.float32, normalizer_fn=None), NumericColumn(key='PetalWidth', shape=(1,), default_value=None, dtype=tf.float32, normalizer_fn=None)]\n"
          ],
          "name": "stdout"
        }
      ]
    },
    {
      "cell_type": "code",
      "metadata": {
        "id": "ms-c4hXFjdjB",
        "colab_type": "code",
        "colab": {
          "base_uri": "https://localhost:8080/",
          "height": 193
        },
        "outputId": "504e9194-af09-433a-b0c2-b250fe340b8e"
      },
      "source": [
        "# Buildig model\n",
        "# using DNNClassifier\n",
        "\n",
        "classifier = tf.estimator.DNNClassifier(\n",
        "    feature_columns=my_feature_columns,\n",
        "    # Two hidden layers of 30 and 10 nodes respectively.\n",
        "    hidden_units=[30, 10],\n",
        "    # The model must choose between 3 classes.\n",
        "    n_classes=3)"
      ],
      "execution_count": 7,
      "outputs": [
        {
          "output_type": "stream",
          "text": [
            "INFO:tensorflow:Using default config.\n",
            "WARNING:tensorflow:Using temporary folder as model directory: /tmp/tmpa9i8473q\n",
            "INFO:tensorflow:Using config: {'_model_dir': '/tmp/tmpa9i8473q', '_tf_random_seed': None, '_save_summary_steps': 100, '_save_checkpoints_steps': None, '_save_checkpoints_secs': 600, '_session_config': allow_soft_placement: true\n",
            "graph_options {\n",
            "  rewrite_options {\n",
            "    meta_optimizer_iterations: ONE\n",
            "  }\n",
            "}\n",
            ", '_keep_checkpoint_max': 5, '_keep_checkpoint_every_n_hours': 10000, '_log_step_count_steps': 100, '_train_distribute': None, '_device_fn': None, '_protocol': None, '_eval_distribute': None, '_experimental_distribute': None, '_experimental_max_worker_delay_secs': None, '_session_creation_timeout_secs': 7200, '_service': None, '_cluster_spec': ClusterSpec({}), '_task_type': 'worker', '_task_id': 0, '_global_id_in_cluster': 0, '_master': '', '_evaluation_master': '', '_is_chief': True, '_num_ps_replicas': 0, '_num_worker_replicas': 1}\n"
          ],
          "name": "stdout"
        }
      ]
    },
    {
      "cell_type": "code",
      "metadata": {
        "id": "5bMrGjsWjlHT",
        "colab_type": "code",
        "colab": {
          "base_uri": "https://localhost:8080/",
          "height": 1000
        },
        "outputId": "73ac6475-9537-49cf-e1b6-f0700e648d1b"
      },
      "source": [
        "# Training\n",
        "\n",
        "classifier.train(\n",
        "    input_fn=lambda: input_fn(train, train_y, training=True),\n",
        "    steps=5000)"
      ],
      "execution_count": 8,
      "outputs": [
        {
          "output_type": "stream",
          "text": [
            "WARNING:tensorflow:From /usr/local/lib/python3.6/dist-packages/tensorflow/python/training/training_util.py:236: Variable.initialized_value (from tensorflow.python.ops.variables) is deprecated and will be removed in a future version.\n",
            "Instructions for updating:\n",
            "Use Variable.read_value. Variables in 2.X are initialized automatically both in eager and graph (inside tf.defun) contexts.\n",
            "INFO:tensorflow:Calling model_fn.\n",
            "WARNING:tensorflow:Layer dnn is casting an input tensor from dtype float64 to the layer's dtype of float32, which is new behavior in TensorFlow 2.  The layer has dtype float32 because its dtype defaults to floatx.\n",
            "\n",
            "If you intended to run this layer in float32, you can safely ignore this warning. If in doubt, this warning is likely only an issue if you are porting a TensorFlow 1.X model to TensorFlow 2.\n",
            "\n",
            "To change all layers to have dtype float64 by default, call `tf.keras.backend.set_floatx('float64')`. To change just this layer, pass dtype='float64' to the layer constructor. If you are the author of this layer, you can disable autocasting by passing autocast=False to the base Layer constructor.\n",
            "\n",
            "WARNING:tensorflow:From /usr/local/lib/python3.6/dist-packages/tensorflow/python/keras/optimizer_v2/adagrad.py:83: calling Constant.__init__ (from tensorflow.python.ops.init_ops) with dtype is deprecated and will be removed in a future version.\n",
            "Instructions for updating:\n",
            "Call initializer instance with the dtype argument instead of passing it to the constructor\n",
            "INFO:tensorflow:Done calling model_fn.\n",
            "INFO:tensorflow:Create CheckpointSaverHook.\n",
            "INFO:tensorflow:Graph was finalized.\n",
            "INFO:tensorflow:Running local_init_op.\n",
            "INFO:tensorflow:Done running local_init_op.\n",
            "INFO:tensorflow:Calling checkpoint listeners before saving checkpoint 0...\n",
            "INFO:tensorflow:Saving checkpoints for 0 into /tmp/tmpa9i8473q/model.ckpt.\n",
            "INFO:tensorflow:Calling checkpoint listeners after saving checkpoint 0...\n",
            "INFO:tensorflow:loss = 1.2141817, step = 0\n",
            "INFO:tensorflow:global_step/sec: 502.844\n",
            "INFO:tensorflow:loss = 1.0470531, step = 100 (0.204 sec)\n",
            "INFO:tensorflow:global_step/sec: 600.507\n",
            "INFO:tensorflow:loss = 0.99532956, step = 200 (0.163 sec)\n",
            "INFO:tensorflow:global_step/sec: 641.209\n",
            "INFO:tensorflow:loss = 0.98325837, step = 300 (0.157 sec)\n",
            "INFO:tensorflow:global_step/sec: 617.874\n",
            "INFO:tensorflow:loss = 0.95005167, step = 400 (0.163 sec)\n",
            "INFO:tensorflow:global_step/sec: 642.96\n",
            "INFO:tensorflow:loss = 0.9541414, step = 500 (0.154 sec)\n",
            "INFO:tensorflow:global_step/sec: 597.363\n",
            "INFO:tensorflow:loss = 0.93164873, step = 600 (0.167 sec)\n",
            "INFO:tensorflow:global_step/sec: 642.386\n",
            "INFO:tensorflow:loss = 0.91848886, step = 700 (0.158 sec)\n",
            "INFO:tensorflow:global_step/sec: 602.974\n",
            "INFO:tensorflow:loss = 0.88443315, step = 800 (0.163 sec)\n",
            "INFO:tensorflow:global_step/sec: 658.052\n",
            "INFO:tensorflow:loss = 0.85301, step = 900 (0.154 sec)\n",
            "INFO:tensorflow:global_step/sec: 628.056\n",
            "INFO:tensorflow:loss = 0.8306302, step = 1000 (0.158 sec)\n",
            "INFO:tensorflow:global_step/sec: 652.348\n",
            "INFO:tensorflow:loss = 0.808133, step = 1100 (0.152 sec)\n",
            "INFO:tensorflow:global_step/sec: 596.914\n",
            "INFO:tensorflow:loss = 0.7914407, step = 1200 (0.169 sec)\n",
            "INFO:tensorflow:global_step/sec: 657.299\n",
            "INFO:tensorflow:loss = 0.7727753, step = 1300 (0.153 sec)\n",
            "INFO:tensorflow:global_step/sec: 631.626\n",
            "INFO:tensorflow:loss = 0.74144804, step = 1400 (0.156 sec)\n",
            "INFO:tensorflow:global_step/sec: 670.376\n",
            "INFO:tensorflow:loss = 0.72823286, step = 1500 (0.150 sec)\n",
            "INFO:tensorflow:global_step/sec: 646.495\n",
            "INFO:tensorflow:loss = 0.7209918, step = 1600 (0.156 sec)\n",
            "INFO:tensorflow:global_step/sec: 638.281\n",
            "INFO:tensorflow:loss = 0.694887, step = 1700 (0.154 sec)\n",
            "INFO:tensorflow:global_step/sec: 675.969\n",
            "INFO:tensorflow:loss = 0.68326175, step = 1800 (0.151 sec)\n",
            "INFO:tensorflow:global_step/sec: 589.992\n",
            "INFO:tensorflow:loss = 0.6812996, step = 1900 (0.170 sec)\n",
            "INFO:tensorflow:global_step/sec: 659.881\n",
            "INFO:tensorflow:loss = 0.6600208, step = 2000 (0.149 sec)\n",
            "INFO:tensorflow:global_step/sec: 653.329\n",
            "INFO:tensorflow:loss = 0.6480329, step = 2100 (0.156 sec)\n",
            "INFO:tensorflow:global_step/sec: 669.443\n",
            "INFO:tensorflow:loss = 0.6399417, step = 2200 (0.148 sec)\n",
            "INFO:tensorflow:global_step/sec: 581.621\n",
            "INFO:tensorflow:loss = 0.6243952, step = 2300 (0.174 sec)\n",
            "INFO:tensorflow:global_step/sec: 622.191\n",
            "INFO:tensorflow:loss = 0.61200166, step = 2400 (0.163 sec)\n",
            "INFO:tensorflow:global_step/sec: 463.558\n",
            "INFO:tensorflow:loss = 0.62295943, step = 2500 (0.214 sec)\n",
            "INFO:tensorflow:global_step/sec: 563.151\n",
            "INFO:tensorflow:loss = 0.5921887, step = 2600 (0.176 sec)\n",
            "INFO:tensorflow:global_step/sec: 587.389\n",
            "INFO:tensorflow:loss = 0.5960394, step = 2700 (0.171 sec)\n",
            "INFO:tensorflow:global_step/sec: 634.107\n",
            "INFO:tensorflow:loss = 0.56534696, step = 2800 (0.161 sec)\n",
            "INFO:tensorflow:global_step/sec: 579.904\n",
            "INFO:tensorflow:loss = 0.57287276, step = 2900 (0.169 sec)\n",
            "INFO:tensorflow:global_step/sec: 639.319\n",
            "INFO:tensorflow:loss = 0.5649891, step = 3000 (0.155 sec)\n",
            "INFO:tensorflow:global_step/sec: 564.02\n",
            "INFO:tensorflow:loss = 0.5431038, step = 3100 (0.177 sec)\n",
            "INFO:tensorflow:global_step/sec: 651.493\n",
            "INFO:tensorflow:loss = 0.53642195, step = 3200 (0.155 sec)\n",
            "INFO:tensorflow:global_step/sec: 645.065\n",
            "INFO:tensorflow:loss = 0.54251665, step = 3300 (0.153 sec)\n",
            "INFO:tensorflow:global_step/sec: 689.142\n",
            "INFO:tensorflow:loss = 0.5339485, step = 3400 (0.144 sec)\n",
            "INFO:tensorflow:global_step/sec: 620.152\n",
            "INFO:tensorflow:loss = 0.52807915, step = 3500 (0.164 sec)\n",
            "INFO:tensorflow:global_step/sec: 605.954\n",
            "INFO:tensorflow:loss = 0.5199437, step = 3600 (0.163 sec)\n",
            "INFO:tensorflow:global_step/sec: 614.939\n",
            "INFO:tensorflow:loss = 0.5271554, step = 3700 (0.162 sec)\n",
            "INFO:tensorflow:global_step/sec: 670.086\n",
            "INFO:tensorflow:loss = 0.4997279, step = 3800 (0.149 sec)\n",
            "INFO:tensorflow:global_step/sec: 649.299\n",
            "INFO:tensorflow:loss = 0.49689686, step = 3900 (0.156 sec)\n",
            "INFO:tensorflow:global_step/sec: 654.948\n",
            "INFO:tensorflow:loss = 0.5064859, step = 4000 (0.153 sec)\n",
            "INFO:tensorflow:global_step/sec: 653.548\n",
            "INFO:tensorflow:loss = 0.46853453, step = 4100 (0.152 sec)\n",
            "INFO:tensorflow:global_step/sec: 664.098\n",
            "INFO:tensorflow:loss = 0.4799809, step = 4200 (0.149 sec)\n",
            "INFO:tensorflow:global_step/sec: 659.859\n",
            "INFO:tensorflow:loss = 0.46497998, step = 4300 (0.153 sec)\n",
            "INFO:tensorflow:global_step/sec: 632.137\n",
            "INFO:tensorflow:loss = 0.46705276, step = 4400 (0.156 sec)\n",
            "INFO:tensorflow:global_step/sec: 650.656\n",
            "INFO:tensorflow:loss = 0.46996298, step = 4500 (0.154 sec)\n",
            "INFO:tensorflow:global_step/sec: 653.404\n",
            "INFO:tensorflow:loss = 0.46500656, step = 4600 (0.156 sec)\n",
            "INFO:tensorflow:global_step/sec: 667.302\n",
            "INFO:tensorflow:loss = 0.46219593, step = 4700 (0.147 sec)\n",
            "INFO:tensorflow:global_step/sec: 631.925\n",
            "INFO:tensorflow:loss = 0.45404276, step = 4800 (0.158 sec)\n",
            "INFO:tensorflow:global_step/sec: 662.625\n",
            "INFO:tensorflow:loss = 0.4482669, step = 4900 (0.151 sec)\n",
            "INFO:tensorflow:Calling checkpoint listeners before saving checkpoint 5000...\n",
            "INFO:tensorflow:Saving checkpoints for 5000 into /tmp/tmpa9i8473q/model.ckpt.\n",
            "INFO:tensorflow:Calling checkpoint listeners after saving checkpoint 5000...\n",
            "INFO:tensorflow:Loss for final step: 0.44725978.\n"
          ],
          "name": "stdout"
        },
        {
          "output_type": "execute_result",
          "data": {
            "text/plain": [
              "<tensorflow_estimator.python.estimator.canned.dnn.DNNClassifierV2 at 0x7ff7a39a7a20>"
            ]
          },
          "metadata": {
            "tags": []
          },
          "execution_count": 8
        }
      ]
    },
    {
      "cell_type": "code",
      "metadata": {
        "id": "TJvnbKoLjqmg",
        "colab_type": "code",
        "colab": {
          "base_uri": "https://localhost:8080/",
          "height": 384
        },
        "outputId": "3c70d27a-74ee-4919-c1a3-7fed6eee5547"
      },
      "source": [
        "# Evaluating or tesing\n",
        "\n",
        "eval_result = classifier.evaluate(\n",
        "    input_fn=lambda: input_fn(test, test_y, training=False))\n",
        "\n",
        "print('\\nTest set accuracy: {accuracy:0.3f}\\n'.format(**eval_result))"
      ],
      "execution_count": 9,
      "outputs": [
        {
          "output_type": "stream",
          "text": [
            "INFO:tensorflow:Calling model_fn.\n",
            "WARNING:tensorflow:Layer dnn is casting an input tensor from dtype float64 to the layer's dtype of float32, which is new behavior in TensorFlow 2.  The layer has dtype float32 because its dtype defaults to floatx.\n",
            "\n",
            "If you intended to run this layer in float32, you can safely ignore this warning. If in doubt, this warning is likely only an issue if you are porting a TensorFlow 1.X model to TensorFlow 2.\n",
            "\n",
            "To change all layers to have dtype float64 by default, call `tf.keras.backend.set_floatx('float64')`. To change just this layer, pass dtype='float64' to the layer constructor. If you are the author of this layer, you can disable autocasting by passing autocast=False to the base Layer constructor.\n",
            "\n",
            "INFO:tensorflow:Done calling model_fn.\n",
            "INFO:tensorflow:Starting evaluation at 2020-09-09T06:30:21Z\n",
            "INFO:tensorflow:Graph was finalized.\n",
            "INFO:tensorflow:Restoring parameters from /tmp/tmpa9i8473q/model.ckpt-5000\n",
            "INFO:tensorflow:Running local_init_op.\n",
            "INFO:tensorflow:Done running local_init_op.\n",
            "INFO:tensorflow:Inference Time : 0.23575s\n",
            "INFO:tensorflow:Finished evaluation at 2020-09-09-06:30:21\n",
            "INFO:tensorflow:Saving dict for global step 5000: accuracy = 0.9, average_loss = 0.5194107, global_step = 5000, loss = 0.5194107\n",
            "INFO:tensorflow:Saving 'checkpoint_path' summary for global step 5000: /tmp/tmpa9i8473q/model.ckpt-5000\n",
            "\n",
            "Test set accuracy: 0.900\n",
            "\n"
          ],
          "name": "stdout"
        }
      ]
    },
    {
      "cell_type": "code",
      "metadata": {
        "id": "C8cgy3aOjvKY",
        "colab_type": "code",
        "colab": {
          "base_uri": "https://localhost:8080/",
          "height": 295
        },
        "outputId": "5a89864b-ba09-4dda-dfd0-9ff1bd32b061"
      },
      "source": [
        "# Prediction using user input\n",
        "\n",
        "def input_fn(features, batch_size=256):\n",
        "    # Convert the inputs to a Dataset without labels.\n",
        "    return tf.data.Dataset.from_tensor_slices(dict(features)).batch(batch_size)\n",
        "\n",
        "features = ['SepalLength', 'SepalWidth', 'PetalLength', 'PetalWidth']\n",
        "predict = {}\n",
        "\n",
        "print(\"Please type numeric values as prompted.\")\n",
        "for feature in features:\n",
        "  valid = True\n",
        "  while valid: \n",
        "    val = input(feature + \": \")\n",
        "    if not val.isdigit(): valid = False\n",
        "\n",
        "  predict[feature] = [float(val)]\n",
        "\n",
        "predictions = classifier.predict(input_fn=lambda: input_fn(predict))\n",
        "for pred_dict in predictions:\n",
        "    class_id = pred_dict['class_ids'][0]\n",
        "    probability = pred_dict['probabilities'][class_id]\n",
        "\n",
        "    print('Prediction is \"{}\" ({:.1f}%)'.format(\n",
        "        SPECIES[class_id], 100 * probability))"
      ],
      "execution_count": 10,
      "outputs": [
        {
          "output_type": "stream",
          "text": [
            "Please type numeric values as prompted.\n",
            "SepalLength: 2\n",
            "SepalLength: 2\n",
            "SepalLength: 3\n",
            "SepalLength: 3\n",
            "SepalLength: 2.4\n",
            "SepalWidth: 2.3\n",
            "PetalLength: 1.2\n",
            "PetalWidth: 1.3\n",
            "INFO:tensorflow:Calling model_fn.\n",
            "INFO:tensorflow:Done calling model_fn.\n",
            "INFO:tensorflow:Graph was finalized.\n",
            "INFO:tensorflow:Restoring parameters from /tmp/tmpa9i8473q/model.ckpt-5000\n",
            "INFO:tensorflow:Running local_init_op.\n",
            "INFO:tensorflow:Done running local_init_op.\n",
            "Prediction is \"Setosa\" (49.0%)\n"
          ],
          "name": "stdout"
        }
      ]
    },
    {
      "cell_type": "code",
      "metadata": {
        "id": "1qeqtwP0j75S",
        "colab_type": "code",
        "colab": {
          "base_uri": "https://localhost:8080/",
          "height": 173
        },
        "outputId": "cc7e9414-3aa2-441a-b0c9-c96dbb46d70a"
      },
      "source": [
        "# predicting using list of custom input\n",
        "\n",
        "expected = ['Setosa', 'Versicolor', 'Virginica']\n",
        "predict_x = {\n",
        "    'SepalLength': [5.1, 5.9, 6.9],\n",
        "    'SepalWidth': [3.3, 3.0, 3.1],\n",
        "    'PetalLength': [1.7, 4.2, 5.4],\n",
        "    'PetalWidth': [0.5, 1.5, 2.1],\n",
        "}\n",
        "\n",
        "predictions = classifier.predict(input_fn=lambda: input_fn(predict_x))\n",
        "for pred_dict in predictions:\n",
        "    class_id = pred_dict['class_ids'][0]\n",
        "    probability = pred_dict['probabilities'][class_id]\n",
        "\n",
        "    print('Prediction is \"{}\" ({:.1f}%)'.format(\n",
        "        SPECIES[class_id], 100 * probability))"
      ],
      "execution_count": 11,
      "outputs": [
        {
          "output_type": "stream",
          "text": [
            "INFO:tensorflow:Calling model_fn.\n",
            "INFO:tensorflow:Done calling model_fn.\n",
            "INFO:tensorflow:Graph was finalized.\n",
            "INFO:tensorflow:Restoring parameters from /tmp/tmpa9i8473q/model.ckpt-5000\n",
            "INFO:tensorflow:Running local_init_op.\n",
            "INFO:tensorflow:Done running local_init_op.\n",
            "Prediction is \"Setosa\" (76.2%)\n",
            "Prediction is \"Versicolor\" (46.7%)\n",
            "Prediction is \"Virginica\" (64.7%)\n"
          ],
          "name": "stdout"
        }
      ]
    }
  ]
}